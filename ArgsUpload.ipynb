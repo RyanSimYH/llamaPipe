{
 "cells": [
  {
   "cell_type": "code",
   "execution_count": 3,
   "id": "4428bf1f-e077-4baa-9c5f-b3fbf08af4b2",
   "metadata": {
    "tags": []
   },
   "outputs": [
    {
     "name": "stdout",
     "output_type": "stream",
     "text": [
      "Successfully uploaded uploadPipelineArgs/PipelineArgs/PipelineArgs.json to s3://chatbot-data-bucket-301ada4f-c0cc-4157-a7b7-c75b88a71b7e/PipelineArgs/PipelineArgs.json\n"
     ]
    }
   ],
   "source": [
    "import os\n",
    "import boto3\n",
    "\n",
    "testingMode = False\n",
    "\n",
    "endpoint = \"XXX\" if testingMode else os.environ.get('AWS_S3_ENDPOINT')\n",
    "bucket_name = \"XXX\" if testingMode else os.environ.get('AWS_S3_BUCKET')\n",
    "key_id = \"XXX\" if testingMode else os.environ.get('AWS_ACCESS_KEY_ID')\n",
    "secret_key = \"XXX\" if testingMode else os.environ.get('AWS_SECRET_ACCESS_KEY')\n",
    "session = boto3.session.Session(aws_access_key_id=key_id, aws_secret_access_key=secret_key)\n",
    "s3_client = boto3.client('s3',endpoint_url=endpoint,aws_access_key_id=key_id, aws_secret_access_key=secret_key)\n",
    "session = boto3.session.Session(aws_access_key_id=key_id, aws_secret_access_key=secret_key)\n",
    "s3_client = boto3.client('s3',endpoint_url=endpoint,aws_access_key_id=key_id, aws_secret_access_key=secret_key)\n",
    "\n",
    "def download_s3_folder(s3_folder, local_dir):\n",
    "    s3 =  boto3.client('s3',endpoint_url=endpoint,aws_access_key_id=key_id, aws_secret_access_key=secret_key)\n",
    "    # List all objects within the specified S3 folder\n",
    "    objects = s3.list_objects_v2(Bucket=bucket_name, Prefix=s3_folder)['Contents']\n",
    "    \n",
    "    for obj in objects:\n",
    "        # Extract the file path from the object key\n",
    "        s3_key = obj['Key']\n",
    "        \n",
    "        # Create the local file path\n",
    "        relative_path = os.path.relpath(s3_key, s3_folder)\n",
    "        local_file_path = os.path.join(local_dir, relative_path)\n",
    "        \n",
    "        # Ensure local directory exists\n",
    "        local_dir_path = os.path.dirname(local_file_path)\n",
    "        if not os.path.exists(local_dir_path):\n",
    "            os.makedirs(local_dir_path)\n",
    "        \n",
    "        # Download the file from S3\n",
    "        s3.download_file(bucket_name, s3_key, local_file_path)\n",
    "        print(f\"Downloaded {s3_key} to {local_file_path}\")\n",
    "    \n",
    "def upload_s3_folder(folder_path):\n",
    "    for root, dirs, files in os.walk(folder_path):\n",
    "            for file in files:\n",
    "                file_path = os.path.join(root, file)\n",
    "                s3_key = os.path.relpath(file_path, folder_path)\n",
    "                try:\n",
    "                    s3_client.upload_file(file_path, bucket_name, s3_key)\n",
    "                    print(f'Successfully uploaded {file_path} to s3://{bucket_name}/{s3_key}')\n",
    "                except FileNotFoundError:\n",
    "                    print(f'The file {file_path} was not found')\n",
    "                except NoCredentialsError:\n",
    "                    print('Credentials not available')\n",
    "                except PartialCredentialsError:\n",
    "                    print('Incomplete credentials')"
   ]
  },
  {
   "cell_type": "code",
   "execution_count": null,
   "id": "a203cb18",
   "metadata": {},
   "outputs": [],
   "source": [
    "upload_s3_folder(\"XXX\")"
   ]
  }
 ],
 "metadata": {
  "kernelspec": {
   "display_name": "Python 3.9",
   "language": "python",
   "name": "python3"
  },
  "language_info": {
   "codemirror_mode": {
    "name": "ipython",
    "version": 3
   },
   "file_extension": ".py",
   "mimetype": "text/x-python",
   "name": "python",
   "nbconvert_exporter": "python",
   "pygments_lexer": "ipython3",
   "version": "3.9.16"
  }
 },
 "nbformat": 4,
 "nbformat_minor": 5
}
